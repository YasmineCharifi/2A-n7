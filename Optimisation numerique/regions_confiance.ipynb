{
 "cells": [
  {
   "cell_type": "markdown",
   "metadata": {},
   "source": [
    "<center>\n",
    "<h1> TP-Projet d'optimisation numérique </h1>\n",
    "<h1> Algorithme des Régions de Confiance </h1>\n",
    "</center>"
   ]
  },
  {
   "cell_type": "markdown",
   "metadata": {},
   "source": [
    "# Régions de confiance avec Pas de Cauchy \n",
    "\n",
    "## Implémentation \n",
    "\n",
    "1. Coder l'algorithme du pas de Cauchy d’un sous-problème de\n",
    "régions de confiance (fichier `Pas_De_Cauchy.jl`). La spécification de cet algorithme est donnée ci-dessous."
   ]
  },
  {
   "cell_type": "code",
   "execution_count": 2,
   "metadata": {},
   "outputs": [
    {
     "data": {
      "text/plain": [
       "Pas_De_Cauchy"
      ]
     },
     "metadata": {},
     "output_type": "display_data"
    }
   ],
   "source": [
    "using LinearAlgebra\n",
    "#using Documenter\n",
    "using Markdown  \n",
    "include(\"Pas_De_Cauchy.jl\")\n",
    "# @doc Pas_De_Cauchy"
   ]
  },
  {
   "cell_type": "markdown",
   "metadata": {},
   "source": [
    "2. Ecrire des tests exhaustifs (qui testent tous les cas de figure possibles) pour votre algorithme du Pas de Cauchy. Vous créerez pour cela un fichier `tester_pas_de_Cauchy.jl` dans le répertoire `test` sur le modèle des autres fichiers de tests et vous exécuterez dans la cellule de code ci-après ces tests."
   ]
  },
  {
   "cell_type": "code",
   "execution_count": 3,
   "metadata": {},
   "outputs": [
    {
     "data": {
      "text/plain": [
       "Gradient_Conjugue_Tronque"
      ]
     },
     "metadata": {},
     "output_type": "display_data"
    }
   ],
   "source": [
    "\n",
    "include(\"Gradient_Conjugue_Tronque.jl\")\n",
    "# @doc Gradient_Conjugue_Tronque\n"
   ]
  },
  {
   "cell_type": "code",
   "execution_count": 4,
   "metadata": {},
   "outputs": [
    {
     "name": "stdout",
     "output_type": "stream",
     "text": [
      "\u001b[0m\u001b[1mTest Summary: | \u001b[22m\u001b[32m\u001b[1mPass  \u001b[22m\u001b[39m\u001b[36m\u001b[1mTotal  \u001b[22m\u001b[39m\u001b[0m\u001b[1mTime\u001b[22m\n",
      "Test cauchy   | \u001b[32m  10  \u001b[39m\u001b[36m   10  \u001b[39m\u001b[0m1.2s\n"
     ]
    }
   ],
   "source": [
    "using Test\n",
    "\n",
    "# Tolérance pour les tests d'égalité\n",
    "tol_erreur = sqrt(eps())\n",
    "\n",
    "## ajouter les fonctions de test\n",
    "include(\"../test/fonctions_de_tests.jl\")\n",
    "include(\"../test/tester_pas_de_cauchy.jl\")\n",
    "include(\"../src/Pas_De_Cauchy.jl\")\n",
    "\n",
    "affiche = false\n",
    "\n",
    "@testset \"Test cauchy\" begin\n",
    "\ttester_pas_de_cauchy(affiche,Pas_De_Cauchy)\n",
    "end;"
   ]
  },
  {
   "cell_type": "markdown",
   "metadata": {},
   "source": [
    "3. Coder l'algorithme des Régions de Confiance (fichier `Regions_De_Confiance.jl`). Sa spécification est donnée ci-dessous."
   ]
  },
  {
   "cell_type": "code",
   "execution_count": 5,
   "metadata": {},
   "outputs": [
    {
     "data": {
      "text/plain": [
       "Regions_De_Confiance"
      ]
     },
     "metadata": {},
     "output_type": "display_data"
    }
   ],
   "source": [
    "include(\"Regions_De_Confiance.jl\")\n",
    "# @doc Regions_De_Confiance"
   ]
  },
  {
   "cell_type": "markdown",
   "metadata": {},
   "source": [
    "4. Vérifier que les tests ci-dessous passent."
   ]
  },
  {
   "cell_type": "code",
   "execution_count": 6,
   "metadata": {},
   "outputs": [
    {
     "data": {
      "text/plain": [
       "false"
      ]
     },
     "metadata": {},
     "output_type": "display_data"
    }
   ],
   "source": [
    "using Test\n",
    "\n",
    "# Tolérance pour les tests d'égalité\n",
    "tol_erreur = sqrt(eps())\n",
    "## ajouter les fonctions de test\n",
    "include(\"../test/fonctions_de_tests.jl\")\n",
    "include(\"../test/tester_regions_de_confiance.jl\")\n",
    "include(\"../src/Pas_De_Cauchy.jl\")\n",
    "include(\"../src/Regions_De_Confiance.jl\")\n",
    "\n",
    "affiche = false\n",
    "\n"
   ]
  },
  {
   "cell_type": "markdown",
   "metadata": {},
   "source": [
    "## Interprétation \n",
    "\n",
    "<!-- Pour ces questions, des représentations graphiques sont attendues pour corroborer vos réponses. -->\n",
    "\n",
    "1. Soit $$ f_{1} : \\mathbf{R}^3 \\rightarrow \\mathbf{R}$$ $$ (x_1,x_2, x_3) \\mapsto  2 (x_1 +x_2 + x_3 -3)^2 + (x_1-x_2)^2 + (x_2 - x_3)^2$$ Quelle relation lie la fonction $f_1$ et son modèle de Taylor à l’ordre 2 ? Comparer alors les performances de Newton et RC-Pas de Cauchy sur cette fonction.\n",
    "\n",
    "2.  Le rayon initial de la région de confiance est un paramètre important dans l’analyse\n",
    "de la performance de l’algorithme. Sur quel(s) autre(s) paramètre(s) peut-on jouer\n",
    "pour essayer d’améliorer cette performance ? Étudier l’influence d’au moins deux de\n",
    "ces paramètres. Pour cela vous ferez des tests numériques et donnerez les résultats sous forme de tableaux et de graphiques."
   ]
  },
  {
   "cell_type": "markdown",
   "metadata": {},
   "source": [
    "# Régions de confiance avec Gradient Conjugué\n",
    "## Implémentation \n",
    "\n",
    "1. Implémenter l’algorithme du Gradient Conjugué Tronqué (fichier `Gradient_Conjugue_Tronque.jl`). Sa spécification est donnée ci-dessous."
   ]
  },
  {
   "cell_type": "code",
   "execution_count": 7,
   "metadata": {},
   "outputs": [
    {
     "data": {
      "text/plain": [
       "Gradient_Conjugue_Tronque"
      ]
     },
     "metadata": {},
     "output_type": "display_data"
    }
   ],
   "source": [
    "include(\"Gradient_Conjugue_Tronque.jl\")\n",
    "# @doc Gradient_Conjugue_Tronque"
   ]
  },
  {
   "cell_type": "markdown",
   "metadata": {},
   "source": [
    "2. Vérifier que les tests ci-dessous passent."
   ]
  },
  {
   "cell_type": "code",
   "execution_count": 8,
   "metadata": {},
   "outputs": [
    {
     "name": "stdout",
     "output_type": "stream",
     "text": [
      "\u001b[0m\u001b[1mTest Summary: | \u001b[22m\u001b[32m\u001b[1mPass  \u001b[22m\u001b[39m\u001b[36m\u001b[1mTotal  \u001b[22m\u001b[39m\u001b[0m\u001b[1mTime\u001b[22m\n",
      "Test gct      | \u001b[32m  11  \u001b[39m\u001b[36m   11  \u001b[39m\u001b[0m2.8s\n"
     ]
    }
   ],
   "source": [
    "using Test\n",
    "\n",
    "# Tolérance pour les tests d'égalité\n",
    "tol_erreur = sqrt(eps())\n",
    "\n",
    "## ajouter les fonctions de test\n",
    "include(\"../test/fonctions_de_tests.jl\")\n",
    "include(\"../test/tester_gct.jl\")\n",
    "include(\"../src/Gradient_Conjugue_Tronque.jl\")\n",
    "\n",
    "affiche = false\n",
    "\n",
    "@testset \"Test gct\" begin\n",
    "\ttester_gct(affiche,Gradient_Conjugue_Tronque)\n",
    "end;"
   ]
  },
  {
   "cell_type": "code",
   "execution_count": 9,
   "metadata": {},
   "outputs": [
    {
     "name": "stdout",
     "output_type": "stream",
     "text": [
      "iters = 864.0"
     ]
    },
    {
     "name": "stdout",
     "output_type": "stream",
     "text": [
      "\n",
      "\u001b[0m\u001b[1mTest Summary:              | \u001b[22m\u001b[32m\u001b[1mPass  \u001b[22m\u001b[39m\u001b[36m\u001b[1mTotal  \u001b[22m\u001b[39m\u001b[0m\u001b[1mTime\u001b[22m\n",
      "Test rc avec cauchy et gct | \u001b[32m  30  \u001b[39m\u001b[36m   30  \u001b[39m\u001b[0m2.7s\n"
     ]
    },
    {
     "name": "stdout",
     "output_type": "stream",
     "text": [
      "-------------------------------------------------------------------------\n",
      "\u001b[34m\u001b[1mRésultats de : gct appliqué à f1:\u001b[22m\u001b[39m\n"
     ]
    },
    {
     "name": "stdout",
     "output_type": "stream",
     "text": [
      "  * xsol = [-1.414213562373095, 0.0, -1.414213562373095]\n"
     ]
    }
   ],
   "source": [
    "using LinearAlgebra\n",
    "using Markdown  \n",
    "include(\"Gradient_Conjugue_Tronque.jl\")\n",
    "include(\"Regions_De_Confiance.jl\")\n",
    "include(\"../test/fonctions_de_tests.jl\")\n",
    "@testset \"Test rc avec cauchy et gct\" begin\n",
    "\ttester_regions_de_confiance(affiche,Regions_De_Confiance)\n",
    "end;\n",
    "# Affichage les sorties du pas de cauchy\n",
    "function my_afficher_resultats(algo,nom_fct,xmin)\n",
    "\tprintln(\"-------------------------------------------------------------------------\")\n",
    "\tprintstyled(\"Résultats de : \",algo, \" appliqué à \",nom_fct, \":\\n\",bold=true,color=:blue)\n",
    "\tprintln(\"  * xsol = \",xmin)\n",
    "end\n",
    "# Fonction f1\n",
    "# -----------\n",
    "\n",
    "g = [1; 0; 1]\n",
    "H = [0 0 0; 0 0 0; 0 0 0]\n",
    "options = []\n",
    "\n",
    "s = Gradient_Conjugue_Tronque(g,H,options)\n",
    "my_afficher_resultats(\"gct\",\"f1\",s)"
   ]
  },
  {
   "cell_type": "markdown",
   "metadata": {},
   "source": [
    "3. Intégrer l’algorithme du Gradient Conjugué Tronqué dans le code de régions de confiance (fichier `Regions_De_Confiance.jl`).\n",
    "\n",
    "4. Décommenter les tests avec le gradient conjugué dans `tester_regions_de_confiance.jl` et vérifier que les tests passent."
   ]
  },
  {
   "cell_type": "code",
   "execution_count": 10,
   "metadata": {},
   "outputs": [
    {
     "data": {
      "text/plain": [
       "false"
      ]
     },
     "metadata": {},
     "output_type": "display_data"
    }
   ],
   "source": [
    "using Test\n",
    "\n",
    "# Tolérance pour les tests d'égalité\n",
    "tol_erreur = sqrt(eps())\n",
    "\n",
    "## ajouter les fonctions de test\n",
    "include(\"../test/fonctions_de_tests.jl\")\n",
    "include(\"../test/tester_regions_de_confiance.jl\")\n",
    "include(\"../src/Pas_De_Cauchy.jl\")\n",
    "include(\"../src/Gradient_Conjugue_Tronque.jl\")\n",
    "include(\"../src/Regions_De_Confiance.jl\")\n",
    "\n",
    "affiche = false\n"
   ]
  },
  {
   "cell_type": "code",
   "execution_count": 10,
   "metadata": {},
   "outputs": [
    {
     "name": "stdout",
     "output_type": "stream",
     "text": [
      "iters = 864.0\n"
     ]
    },
    {
     "name": "stdout",
     "output_type": "stream",
     "text": [
      "\u001b[0m\u001b[1mTest Summary:              | \u001b[22m\u001b[32m\u001b[1mPass  \u001b[22m\u001b[39m\u001b[36m\u001b[1mTotal  \u001b[22m\u001b[39m\u001b[0m\u001b[1mTime\u001b[22m\n",
      "Test rc avec cauchy et gct | \u001b[32m  30  \u001b[39m\u001b[36m   30  \u001b[39m\u001b[0m3.0s"
     ]
    },
    {
     "name": "stdout",
     "output_type": "stream",
     "text": [
      "\n",
      "-------------------------------------------------------------------------\n"
     ]
    },
    {
     "name": "stdout",
     "output_type": "stream",
     "text": [
      "\u001b[34m\u001b[1mRésultats de : gct appliqué à f1 au point initial [1, 0, 0]:\u001b[22m\u001b[39m\n",
      "  * xsol = [1.0000000000000004, 0.9999999999999998, 0.9999999999999998]\n",
      "  * f(xsol) = 4.437342591868191e-31\n",
      "  * nb_iters = 1\n",
      "  * flag = 0\n"
     ]
    },
    {
     "name": "stdout",
     "output_type": "stream",
     "text": [
      "  * sol_exacte : [1, 1, 1]"
     ]
    },
    {
     "name": "stdout",
     "output_type": "stream",
     "text": [
      "\n",
      "-------------------------------------------------------------------------"
     ]
    },
    {
     "name": "stdout",
     "output_type": "stream",
     "text": [
      "\n",
      "\u001b[34m\u001b[1mRésultats de : gct appliqué à f1 au point initial [10.0, 3.0, -2.2]:\u001b[22m\u001b[39m\n",
      "  * xsol = [1.0, 1.0, 1.0]\n",
      "  * f(xsol) = 0.0\n",
      "  * nb_iters = 3\n",
      "  * flag = 0\n",
      "  * sol_exacte : [1, 1, 1]\n"
     ]
    }
   ],
   "source": [
    "using LinearAlgebra\n",
    "using Markdown  \n",
    "include(\"Gradient_Conjugue_Tronque.jl\")\n",
    "include(\"Regions_De_Confiance.jl\")\n",
    "include(\"../test/fonctions_de_tests.jl\")\n",
    "@testset \"Test rc avec cauchy et gct\" begin\n",
    "\ttester_regions_de_confiance(affiche,Regions_De_Confiance)\n",
    "end;\n",
    "# Affichage les sorties du pas de cauchy\n",
    "function my_afficher_resultats(algo,nom_fct,point_init,xmin,fxmin,flag,sol_exacte,nb_iters)\n",
    "\tprintln(\"-------------------------------------------------------------------------\")\n",
    "\tprintstyled(\"Résultats de : \",algo, \" appliqué à \",nom_fct, \" au point initial \", point_init, \":\\n\",bold=true,color=:blue)\n",
    "\tprintln(\"  * xsol = \",xmin)\n",
    "\tprintln(\"  * f(xsol) = \",fxmin)\n",
    "\tprintln(\"  * nb_iters = \",nb_iters)\n",
    "\tprintln(\"  * flag = \",flag)\n",
    "\tprintln(\"  * sol_exacte : \", sol_exacte)\n",
    "end\n",
    "\n",
    "# Fonction f1\n",
    "# -----------\n",
    "sol_exacte = [1,1,1]\n",
    "options = []\n",
    "\n",
    "x0 = [1; 0; 0]\n",
    "xmin,f_min,flag,nb_iters = Regions_De_Confiance(\"gct\",fct1,grad_fct1,hess_fct1,x0,options)\n",
    "my_afficher_resultats(\"gct\",\"f1\",x0,xmin,f_min,flag,sol_exacte,nb_iters)\n",
    "x0 = [10; 3; -2.2]\n",
    "xmin,f_min,flag,nb_iters = Regions_De_Confiance(\"gct\",fct1,grad_fct1,hess_fct1,x0,options)\n",
    "my_afficher_resultats(\"gct\",\"f1\",x0,xmin,f_min,flag,sol_exacte,nb_iters)"
   ]
  },
  {
   "cell_type": "code",
   "execution_count": 15,
   "metadata": {},
   "outputs": [
    {
     "name": "stdout",
     "output_type": "stream",
     "text": [
      "-------------------------------------------------------------------------\n",
      "\u001b[34m\u001b[1mRésultats de : gct appliqué à f2 au point initial [1, 3]:\u001b[22m\u001b[39m\n",
      "  * la decroissance : Any[1065.6543819998317, 713.6271909999158, 107.34254334314866, 0.5172166719479541, 0.3574561624036725, 0.20424667637246385, 0.16583941740325625, 0.16897895640170058, 0.12900239188451168, 0.12900239188451168, 0.12900239188451168, 0.11141960203850881, 0.08155129121876131, 0.04947364397609372, 0.04947364397609372, 0.03894747151537119, 0.020177606417490307, 0.009392545576852901, 0.0032132579365839638, 0.0006094170749482127]\n",
      "-------------------------------------------------------------------------\n",
      "\u001b[34m\u001b[1mRésultats de : cauchy appliqué à f2 au point initial [1, 3]:\u001b[22m\u001b[39m\n",
      "  * la decroissance : Any[1065.654381999832, 713.6271909999159, 95.67025364636304, 2.7567094971687642, 0.003913438225544963, 0.006128401431658159, 0.006147283107239221, 0.01719723884119473, 0.01821109629215595, 0.012260199765477042, 0.010748165834943146, 0.0026665429107491923, 0.00261500234929285, 0.0020844015808273997, 0.0020541962765930344, 0.001749063265372608, 0.0017283728015654587, 0.0015247202138024551, 0.0015093134555927978, 0.0013616192279884975]\n",
      "-------------------------------------------------------------------------\n",
      "\u001b[34m\u001b[1mRésultats de : gct appliqué à f2 au point initial [1, 2]:\u001b[22m\u001b[39m\n",
      "  * la decroissance : Any[493.10147549497003, 231.06888451542034, 138.40679774997895, 10.117657449498974, 0.18022061270330128, 0.11732856848949749, 0.08008117175269211, 0.038814786779893556, 0.038814786779893556, 0.03175056196590944, 0.014308740559055094, 0.00561898530626008, 0.0016058074335855432, 0.00013498550009383647, 1.8322894638486616e-6, 2.507720411897183e-10]\n",
      "-------------------------------------------------------------------------\n",
      "\u001b[34m\u001b[1mRésultats de : cauchy appliqué à f2 au point initial [1, 2]:\u001b[22m\u001b[39m\n",
      "  * la decroissance : Any[146.71361502347418, 146.71361502347418, 138.40679774997895, 9.610484668476683, 0.07214037429784435, 0.00010199819798302479, 0.00010193155391506614, 0.00010168009333427763, 0.00010161394063575024, 0.00010136434545988948, 0.00010129867899008604, 0.00010105092673158567, 0.00010098574142614059, 0.00010073980996229415, 0.00010067510083192066, 0.00010043096839751353, 0.00010036673052624123, 0.00010012437570602883, 0.00010006060424982977, 9.982000597154317e-5]\n"
     ]
    }
   ],
   "source": [
    "using LinearAlgebra\n",
    "using Markdown  \n",
    "include(\"Gradient_Conjugue_Tronque.jl\")\n",
    "include(\"Regions_De_Confiance.jl\")\n",
    "include(\"Pas_De_Cauchy.jl\")\n",
    "include(\"../test/fonctions_de_tests.jl\")\n",
    "# Affichage les sorties du pas de cauchy\n",
    "function my_afficher_resultats1(algo,nom_fct,point_init,decroissance)\n",
    "\tprintln(\"-------------------------------------------------------------------------\")\n",
    "\tprintstyled(\"Résultats de : \",algo, \" appliqué à \",nom_fct, \" au point initial \", point_init, \":\\n\",bold=true,color=:blue)\n",
    "\t\n",
    "\tprintln(\"  * la decroissance : \", decroissance)\n",
    "end\n",
    "\n",
    "# Fonction f1\n",
    "# -----------\n",
    "sol_exacte = [1,1,1]\n",
    "gamma1 = 0.5\n",
    "\tgamma2 = 2.00\n",
    "\teta1 = 0.25\n",
    "\teta2 = 0.75\n",
    "\tdeltaMax = 10\n",
    "\tTol_abs = sqrt(eps())\n",
    "\tTol_rel = 1e-15\n",
    "    epsilon = 1e-2\n",
    "\tmaxits = 20\n",
    "\tdelta0_1 = 2\n",
    "\tdelta0_2 = 2\n",
    "\toptions =[deltaMax,gamma1,gamma2,eta1,eta2,delta0_1,maxits,Tol_abs,Tol_rel,epsilon]\n",
    "\n",
    "x1 = [1;3]\n",
    "\n",
    "xmin,f_min,flag,nb_iters, decroissance = Regions_De_Confiance(\"gct\",fct2,grad_fct2,hess_fct2,x1,options)\n",
    "my_afficher_resultats1(\"gct\",\"f2\",x1,decroissance)\n",
    "xmin,f_min,flag,nb_iters, decroissance = Regions_De_Confiance(\"cauchy\",fct2,grad_fct2,hess_fct2,x1,options)\n",
    "my_afficher_resultats1(\"cauchy\",\"f2\",x1,decroissance)\n",
    "\n",
    "x1= [1;2]\n",
    "xmin,f_min,flag,nb_iters, decroissance = Regions_De_Confiance(\"gct\",fct2,grad_fct2,hess_fct2,x1,options)\n",
    "my_afficher_resultats1(\"gct\",\"f2\",x1,decroissance)\n",
    "xmin,f_min,flag,nb_iters, decroissance = Regions_De_Confiance(\"cauchy\",fct2,grad_fct2,hess_fct2,x1,options)\n",
    "my_afficher_resultats1(\"cauchy\",\"f2\",x1,decroissance)"
   ]
  },
  {
   "cell_type": "markdown",
   "metadata": {},
   "source": [
    "## Interprétation  \n",
    "\n",
    "1. Comparer la décroissance obtenue avec celle du pas de Cauchy, en imposant la sortie\n",
    "dans l’algorithme au bout d’une itération seulement. Vous donnerez ci-après des résultats numériques. \n",
    "    1. Que remarquez vous ?\n",
    "    2. Comparer la décroissance obtenue avec celle du pas de Cauchy dans le cas général.\n",
    "\n",
    "3. Quels sont les avantages et inconvénients des deux approches ?"
   ]
  },
  {
   "cell_type": "code",
   "execution_count": null,
   "metadata": {},
   "outputs": [],
   "source": [
    "1.1 Au bout d'une seule itération, la décroissance obtenue par le pas de Cauchy est semblable à celle \n",
    "qu'on obtient par le gct:\n",
    "-------------------------------------------------------------------------\n",
    "Résultats de : gct appliqué à f1 au point initial [1, 0, 0]:\n",
    "  * la decroissance : Any[8.532423208191124]\n",
    "-------------------------------------------------------------------------\n",
    "Résultats de : cauchy appliqué à f1 au point initial [1, 0, 0]:\n",
    "  * la decroissance : Any[8.532423208191124]\n",
    "\n",
    "\n",
    " "
   ]
  },
  {
   "cell_type": "code",
   "execution_count": null,
   "metadata": {},
   "outputs": [],
   "source": [
    "1.2 Dans le cas général :\n",
    "-------------------------------------------------------------------------\n",
    "Résultats de : gct appliqué à f2 au point initial [1, 3]:\n",
    "  * la decroissance : Any[1065.6543819998317, 713.6271909999158, 107.34254334314866, 0.5172166719479541, 0.3574561624036725, 0.20424667637246385, 0.16583941740325625, 0.16897895640170058, 0.12900239188451168, 0.12900239188451168, 0.12900239188451168, 0.11141960203850881, 0.08155129121876131, 0.04947364397609372, 0.04947364397609372, 0.03894747151537119, 0.020177606417490307, 0.009392545576852901, 0.0032132579365839638, 0.0006094170749482127]\n",
    "-------------------------------------------------------------------------\n",
    "Résultats de : cauchy appliqué à f2 au point initial [1, 3]:\n",
    "  * la decroissance : Any[1065.654381999832, 713.6271909999159, 95.67025364636304, 2.7567094971687642, 0.003913438225544963, 0.006128401431658159, 0.006147283107239221, 0.01719723884119473, 0.01821109629215595, 0.012260199765477042, 0.010748165834943146, 0.0026665429107491923, 0.00261500234929285, 0.0020844015808273997, 0.0020541962765930344, 0.001749063265372608, 0.0017283728015654587, 0.0015247202138024551, 0.0015093134555927978, 0.0013616192279884975]\n",
    "-------------------------------------------------------------------------\n",
    "Résultats de : gct appliqué à f2 au point initial [1, 2]:\n",
    "  * la decroissance : Any[493.10147549497003, 231.06888451542034, 138.40679774997895, 10.117657449498974, 0.18022061270330128, 0.11732856848949749, 0.08008117175269211, 0.038814786779893556, 0.038814786779893556, 0.03175056196590944, 0.014308740559055094, 0.00561898530626008, 0.0016058074335855432, 0.00013498550009383647, 1.8322894638486616e-6, 2.507720411897183e-10]\n",
    "-------------------------------------------------------------------------\n",
    "Résultats de : cauchy appliqué à f2 au point initial [1, 2]:\n",
    "  * la decroissance : Any[146.71361502347418, 146.71361502347418, 138.40679774997895, 9.610484668476683, 0.07214037429784435, 0.00010199819798302479, 0.00010193155391506614, 0.00010168009333427763, 0.00010161394063575024, 0.00010136434545988948, 0.00010129867899008604, 0.00010105092673158567, 0.00010098574142614059, 0.00010073980996229415, 0.00010067510083192066, 0.00010043096839751353, 0.00010036673052624123, 0.00010012437570602883, 0.00010006060424982977, 9.982000597154317e-5]\n",
    "\n",
    "On peut donc conclure que la minimisation du gct est meilleur puisque dans le deuxième cas la decroissance \n",
    "en utilisant gct etait de l'ordre de 10¨(-10) contrairemment à cauchy qui est arrivé à l'ordre de 10¨(-4)\n",
    "plus lentement."
   ]
  },
  {
   "cell_type": "code",
   "execution_count": null,
   "metadata": {},
   "outputs": [],
   "source": [
    "2.D'après ce qui précède on remarque que l'algorithme de pas de cauchy permet d'avoir que des valeurs \n",
    "positives de la décroissance mais il est plus lent que celui de l'algorithme \"gct\", qui de son \n",
    "côté peut produire des valeurs négatives ce qui peut nuire à la minimisation de la fonction."
   ]
  }
 ],
 "metadata": {
  "kernelspec": {
   "display_name": "Julia 1.8.3",
   "language": "julia",
   "name": "julia-1.8"
  },
  "language_info": {
   "file_extension": ".jl",
   "mimetype": "application/julia",
   "name": "julia",
   "version": "1.8.3"
  },
  "vscode": {
   "interpreter": {
    "hash": "07d0030d79f680b1d9c8baf3075cd27961db6be7610e175187fa94021db97241"
   }
  }
 },
 "nbformat": 4,
 "nbformat_minor": 4
}
